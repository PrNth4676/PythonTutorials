{
 "cells": [
  {
   "cell_type": "code",
   "execution_count": 1,
   "id": "11af59b2",
   "metadata": {},
   "outputs": [
    {
     "data": {
      "text/plain": [
       "3"
      ]
     },
     "execution_count": 1,
     "metadata": {},
     "output_type": "execute_result"
    }
   ],
   "source": [
    "#Addition\n",
    "2+1"
   ]
  },
  {
   "cell_type": "code",
   "execution_count": 2,
   "id": "2d444174",
   "metadata": {},
   "outputs": [
    {
     "data": {
      "text/plain": [
       "1"
      ]
     },
     "execution_count": 2,
     "metadata": {},
     "output_type": "execute_result"
    }
   ],
   "source": [
    "#Substraction\n",
    "2-1"
   ]
  },
  {
   "cell_type": "code",
   "execution_count": 3,
   "id": "3e6f93e4",
   "metadata": {},
   "outputs": [
    {
     "data": {
      "text/plain": [
       "6"
      ]
     },
     "execution_count": 3,
     "metadata": {},
     "output_type": "execute_result"
    }
   ],
   "source": [
    "#Multiplication\n",
    "3*2"
   ]
  },
  {
   "cell_type": "code",
   "execution_count": 4,
   "id": "9fed0871",
   "metadata": {},
   "outputs": [
    {
     "data": {
      "text/plain": [
       "1.25"
      ]
     },
     "execution_count": 4,
     "metadata": {},
     "output_type": "execute_result"
    }
   ],
   "source": [
    "#Division\n",
    "5/4"
   ]
  },
  {
   "cell_type": "markdown",
   "id": "454a2cf6",
   "metadata": {},
   "source": [
    "### Module or Mod Operator - It returns the remainder after a division"
   ]
  },
  {
   "cell_type": "code",
   "execution_count": 5,
   "id": "3e3bf0da",
   "metadata": {},
   "outputs": [
    {
     "data": {
      "text/plain": [
       "3"
      ]
     },
     "execution_count": 5,
     "metadata": {},
     "output_type": "execute_result"
    }
   ],
   "source": [
    "7%4"
   ]
  },
  {
   "cell_type": "code",
   "execution_count": 6,
   "id": "30c53d64",
   "metadata": {},
   "outputs": [
    {
     "data": {
      "text/plain": [
       "0"
      ]
     },
     "execution_count": 6,
     "metadata": {},
     "output_type": "execute_result"
    }
   ],
   "source": [
    "50%5"
   ]
  },
  {
   "cell_type": "markdown",
   "id": "35e2bba9",
   "metadata": {},
   "source": [
    "### Power Operation"
   ]
  },
  {
   "cell_type": "code",
   "execution_count": 7,
   "id": "56ed0b85",
   "metadata": {},
   "outputs": [
    {
     "data": {
      "text/plain": [
       "8"
      ]
     },
     "execution_count": 7,
     "metadata": {},
     "output_type": "execute_result"
    }
   ],
   "source": [
    "#Two asterisk sign in a row\n",
    "2 ** 3"
   ]
  },
  {
   "cell_type": "markdown",
   "id": "1f444770",
   "metadata": {},
   "source": [
    "# VARIABLE ASSIGNMENT "
   ]
  },
  {
   "cell_type": "code",
   "execution_count": 8,
   "id": "46a3a943",
   "metadata": {},
   "outputs": [],
   "source": [
    "a = 5"
   ]
  },
  {
   "cell_type": "code",
   "execution_count": 9,
   "id": "4138489a",
   "metadata": {},
   "outputs": [
    {
     "data": {
      "text/plain": [
       "5"
      ]
     },
     "execution_count": 9,
     "metadata": {},
     "output_type": "execute_result"
    }
   ],
   "source": [
    "a"
   ]
  },
  {
   "cell_type": "code",
   "execution_count": 10,
   "id": "fd2d4435",
   "metadata": {},
   "outputs": [],
   "source": [
    "a = 10"
   ]
  },
  {
   "cell_type": "code",
   "execution_count": 11,
   "id": "19650571",
   "metadata": {},
   "outputs": [
    {
     "data": {
      "text/plain": [
       "20"
      ]
     },
     "execution_count": 11,
     "metadata": {},
     "output_type": "execute_result"
    }
   ],
   "source": [
    "a+a"
   ]
  },
  {
   "cell_type": "code",
   "execution_count": 12,
   "id": "03dc43c8",
   "metadata": {},
   "outputs": [],
   "source": [
    "a = a+a"
   ]
  },
  {
   "cell_type": "code",
   "execution_count": 13,
   "id": "cd37970b",
   "metadata": {},
   "outputs": [
    {
     "data": {
      "text/plain": [
       "20"
      ]
     },
     "execution_count": 13,
     "metadata": {},
     "output_type": "execute_result"
    }
   ],
   "source": [
    "a"
   ]
  },
  {
   "cell_type": "code",
   "execution_count": 14,
   "id": "6594cabf",
   "metadata": {},
   "outputs": [
    {
     "data": {
      "text/plain": [
       "int"
      ]
     },
     "execution_count": 14,
     "metadata": {},
     "output_type": "execute_result"
    }
   ],
   "source": [
    "#Returns the type of the variable\n",
    "type(a)"
   ]
  },
  {
   "cell_type": "code",
   "execution_count": 15,
   "id": "a3437430",
   "metadata": {},
   "outputs": [],
   "source": [
    "my_income = 100\n",
    "tax_rate = 0.1\n",
    "my_taxes = my_income*tax_rate"
   ]
  },
  {
   "cell_type": "code",
   "execution_count": 16,
   "id": "b38f0322",
   "metadata": {},
   "outputs": [
    {
     "data": {
      "text/plain": [
       "10.0"
      ]
     },
     "execution_count": 16,
     "metadata": {},
     "output_type": "execute_result"
    }
   ],
   "source": [
    "my_taxes"
   ]
  },
  {
   "cell_type": "code",
   "execution_count": 17,
   "id": "936020d0",
   "metadata": {},
   "outputs": [
    {
     "data": {
      "text/plain": [
       "'hello'"
      ]
     },
     "execution_count": 17,
     "metadata": {},
     "output_type": "execute_result"
    }
   ],
   "source": [
    "'hello'"
   ]
  },
  {
   "cell_type": "code",
   "execution_count": 18,
   "id": "73c53a08",
   "metadata": {},
   "outputs": [
    {
     "data": {
      "text/plain": [
       "'world'"
      ]
     },
     "execution_count": 18,
     "metadata": {},
     "output_type": "execute_result"
    }
   ],
   "source": [
    "\"world\""
   ]
  },
  {
   "cell_type": "code",
   "execution_count": 19,
   "id": "d98e32ed",
   "metadata": {},
   "outputs": [
    {
     "data": {
      "text/plain": [
       "'this is also a string'"
      ]
     },
     "execution_count": 19,
     "metadata": {},
     "output_type": "execute_result"
    }
   ],
   "source": [
    "'this is also a string'"
   ]
  },
  {
   "cell_type": "code",
   "execution_count": 20,
   "id": "77b0c778",
   "metadata": {},
   "outputs": [
    {
     "ename": "SyntaxError",
     "evalue": "invalid syntax (Temp/ipykernel_23556/1142179155.py, line 1)",
     "output_type": "error",
     "traceback": [
      "\u001b[1;36m  File \u001b[1;32m\"C:\\Users\\PRATIK~1\\AppData\\Local\\Temp/ipykernel_23556/1142179155.py\"\u001b[1;36m, line \u001b[1;32m1\u001b[0m\n\u001b[1;33m    'I'm going to work'\u001b[0m\n\u001b[1;37m       ^\u001b[0m\n\u001b[1;31mSyntaxError\u001b[0m\u001b[1;31m:\u001b[0m invalid syntax\n"
     ]
    }
   ],
   "source": [
    "'I'm going to work'"
   ]
  },
  {
   "cell_type": "code",
   "execution_count": 21,
   "id": "0a97d3dc",
   "metadata": {},
   "outputs": [
    {
     "data": {
      "text/plain": [
       "\"I'm going to work\""
      ]
     },
     "execution_count": 21,
     "metadata": {},
     "output_type": "execute_result"
    }
   ],
   "source": [
    "\"I'm going to work\""
   ]
  },
  {
   "cell_type": "code",
   "execution_count": 22,
   "id": "00de70b5",
   "metadata": {},
   "outputs": [
    {
     "name": "stdout",
     "output_type": "stream",
     "text": [
      "hello\n"
     ]
    }
   ],
   "source": [
    "print(\"hello\")"
   ]
  },
  {
   "cell_type": "code",
   "execution_count": 23,
   "id": "18da9191",
   "metadata": {},
   "outputs": [
    {
     "name": "stdout",
     "output_type": "stream",
     "text": [
      "hello \n",
      "world\n"
     ]
    }
   ],
   "source": [
    "print('hello \\nworld')"
   ]
  },
  {
   "cell_type": "code",
   "execution_count": 24,
   "id": "5676b3cb",
   "metadata": {},
   "outputs": [
    {
     "name": "stdout",
     "output_type": "stream",
     "text": [
      "hello \tworld\n"
     ]
    }
   ],
   "source": [
    "print('hello \\tworld') #Tab denoted by \\t which gives a tab in a string"
   ]
  },
  {
   "cell_type": "code",
   "execution_count": 25,
   "id": "9c425978",
   "metadata": {},
   "outputs": [
    {
     "data": {
      "text/plain": [
       "5"
      ]
     },
     "execution_count": 25,
     "metadata": {},
     "output_type": "execute_result"
    }
   ],
   "source": [
    "len('hello')"
   ]
  },
  {
   "cell_type": "markdown",
   "id": "ac486e31",
   "metadata": {},
   "source": [
    "## Indexing and Slicing of String "
   ]
  },
  {
   "cell_type": "code",
   "execution_count": 26,
   "id": "a2a25f32",
   "metadata": {},
   "outputs": [],
   "source": [
    "myString = \"Hello World\""
   ]
  },
  {
   "cell_type": "code",
   "execution_count": 27,
   "id": "ac0f229e",
   "metadata": {},
   "outputs": [
    {
     "data": {
      "text/plain": [
       "'H'"
      ]
     },
     "execution_count": 27,
     "metadata": {},
     "output_type": "execute_result"
    }
   ],
   "source": [
    "myString[0]"
   ]
  },
  {
   "cell_type": "code",
   "execution_count": 28,
   "id": "fac3fdc5",
   "metadata": {},
   "outputs": [
    {
     "data": {
      "text/plain": [
       "'r'"
      ]
     },
     "execution_count": 28,
     "metadata": {},
     "output_type": "execute_result"
    }
   ],
   "source": [
    "myString[-3] #Indexing in reverse"
   ]
  },
  {
   "cell_type": "code",
   "execution_count": 29,
   "id": "72c2c893",
   "metadata": {},
   "outputs": [],
   "source": [
    "#Slicing\n",
    "sliceString = \"abcdefghijk\""
   ]
  },
  {
   "cell_type": "code",
   "execution_count": 30,
   "id": "d4f71a37",
   "metadata": {},
   "outputs": [
    {
     "data": {
      "text/plain": [
       "'cdefghijk'"
      ]
     },
     "execution_count": 30,
     "metadata": {},
     "output_type": "execute_result"
    }
   ],
   "source": [
    "sliceString[2:] #Start Index : starts from and includes the index"
   ]
  },
  {
   "cell_type": "code",
   "execution_count": 31,
   "id": "e5e9e215",
   "metadata": {},
   "outputs": [
    {
     "data": {
      "text/plain": [
       "'abc'"
      ]
     },
     "execution_count": 31,
     "metadata": {},
     "output_type": "execute_result"
    }
   ],
   "source": [
    "sliceString[:3] #Stop Index : goes upto the index but doesn't include the index"
   ]
  },
  {
   "cell_type": "code",
   "execution_count": 32,
   "id": "9492293b",
   "metadata": {},
   "outputs": [
    {
     "data": {
      "text/plain": [
       "'def'"
      ]
     },
     "execution_count": 32,
     "metadata": {},
     "output_type": "execute_result"
    }
   ],
   "source": [
    "sliceString[3:6]"
   ]
  },
  {
   "cell_type": "code",
   "execution_count": 33,
   "id": "a7da573f",
   "metadata": {},
   "outputs": [
    {
     "data": {
      "text/plain": [
       "'bc'"
      ]
     },
     "execution_count": 33,
     "metadata": {},
     "output_type": "execute_result"
    }
   ],
   "source": [
    "sliceString[1:3]"
   ]
  },
  {
   "cell_type": "code",
   "execution_count": 34,
   "id": "2ac4bb83",
   "metadata": {},
   "outputs": [
    {
     "data": {
      "text/plain": [
       "'abcdefghijk'"
      ]
     },
     "execution_count": 34,
     "metadata": {},
     "output_type": "execute_result"
    }
   ],
   "source": [
    "sliceString[::] #Valid syntax which is all the way from the beginning till the last index in a step of 1"
   ]
  },
  {
   "cell_type": "code",
   "execution_count": 35,
   "id": "16cb089e",
   "metadata": {},
   "outputs": [
    {
     "data": {
      "text/plain": [
       "'acegik'"
      ]
     },
     "execution_count": 35,
     "metadata": {},
     "output_type": "execute_result"
    }
   ],
   "source": [
    "sliceString[::2]"
   ]
  },
  {
   "cell_type": "code",
   "execution_count": 36,
   "id": "ec87cb8e",
   "metadata": {},
   "outputs": [
    {
     "data": {
      "text/plain": [
       "'ceg'"
      ]
     },
     "execution_count": 36,
     "metadata": {},
     "output_type": "execute_result"
    }
   ],
   "source": [
    "sliceString[2:7:2]"
   ]
  },
  {
   "cell_type": "code",
   "execution_count": 37,
   "id": "d2b9777a",
   "metadata": {},
   "outputs": [
    {
     "data": {
      "text/plain": [
       "'kjihgfedcba'"
      ]
     },
     "execution_count": 37,
     "metadata": {},
     "output_type": "execute_result"
    }
   ],
   "source": [
    "sliceString[::-1] #Reverse a string"
   ]
  },
  {
   "cell_type": "markdown",
   "id": "970a358b",
   "metadata": {},
   "source": [
    "# Properties of String"
   ]
  },
  {
   "cell_type": "markdown",
   "id": "435bff05",
   "metadata": {},
   "source": [
    "### Immutability"
   ]
  },
  {
   "cell_type": "code",
   "execution_count": 38,
   "id": "6beb6554",
   "metadata": {},
   "outputs": [],
   "source": [
    "name = \"Pratik\""
   ]
  },
  {
   "cell_type": "code",
   "execution_count": 39,
   "id": "030f880a",
   "metadata": {},
   "outputs": [
    {
     "ename": "TypeError",
     "evalue": "'str' object does not support item assignment",
     "output_type": "error",
     "traceback": [
      "\u001b[1;31m---------------------------------------------------------------------------\u001b[0m",
      "\u001b[1;31mTypeError\u001b[0m                                 Traceback (most recent call last)",
      "\u001b[1;32mC:\\Users\\PRATIK~1\\AppData\\Local\\Temp/ipykernel_23556/618845840.py\u001b[0m in \u001b[0;36m<module>\u001b[1;34m\u001b[0m\n\u001b[1;32m----> 1\u001b[1;33m \u001b[0mname\u001b[0m\u001b[1;33m[\u001b[0m\u001b[1;36m0\u001b[0m\u001b[1;33m]\u001b[0m \u001b[1;33m=\u001b[0m \u001b[1;34m'Z'\u001b[0m\u001b[1;33m\u001b[0m\u001b[1;33m\u001b[0m\u001b[0m\n\u001b[0m",
      "\u001b[1;31mTypeError\u001b[0m: 'str' object does not support item assignment"
     ]
    }
   ],
   "source": [
    "name[0] = 'Z'"
   ]
  },
  {
   "cell_type": "code",
   "execution_count": 40,
   "id": "c0257a1e",
   "metadata": {},
   "outputs": [],
   "source": [
    "last_letters = name[1:]"
   ]
  },
  {
   "cell_type": "code",
   "execution_count": 41,
   "id": "96947608",
   "metadata": {},
   "outputs": [
    {
     "name": "stdout",
     "output_type": "stream",
     "text": [
      "ratik\n"
     ]
    }
   ],
   "source": [
    "print(last_letters)"
   ]
  },
  {
   "cell_type": "code",
   "execution_count": 42,
   "id": "a4ab1c0a",
   "metadata": {},
   "outputs": [
    {
     "data": {
      "text/plain": [
       "'Pratik'"
      ]
     },
     "execution_count": 42,
     "metadata": {},
     "output_type": "execute_result"
    }
   ],
   "source": [
    "'P'+last_letters #String Concatenation is done here"
   ]
  },
  {
   "cell_type": "code",
   "execution_count": 43,
   "id": "092b9453",
   "metadata": {},
   "outputs": [],
   "source": [
    "x = \"Hello World\""
   ]
  },
  {
   "cell_type": "code",
   "execution_count": 44,
   "id": "0376c1b9",
   "metadata": {},
   "outputs": [
    {
     "data": {
      "text/plain": [
       "'Hello World it is beautiful outside!'"
      ]
     },
     "execution_count": 44,
     "metadata": {},
     "output_type": "execute_result"
    }
   ],
   "source": [
    "x + \" it is beautiful outside!\""
   ]
  },
  {
   "cell_type": "code",
   "execution_count": 45,
   "id": "36590544",
   "metadata": {},
   "outputs": [],
   "source": [
    "letter = 'z'"
   ]
  },
  {
   "cell_type": "code",
   "execution_count": 46,
   "id": "abe67715",
   "metadata": {},
   "outputs": [
    {
     "data": {
      "text/plain": [
       "'zzzzzzzzzz'"
      ]
     },
     "execution_count": 46,
     "metadata": {},
     "output_type": "execute_result"
    }
   ],
   "source": [
    "letter*10"
   ]
  },
  {
   "cell_type": "code",
   "execution_count": 47,
   "id": "f0e15270",
   "metadata": {},
   "outputs": [
    {
     "ename": "TypeError",
     "evalue": "unsupported operand type(s) for +: 'int' and 'str'",
     "output_type": "error",
     "traceback": [
      "\u001b[1;31m---------------------------------------------------------------------------\u001b[0m",
      "\u001b[1;31mTypeError\u001b[0m                                 Traceback (most recent call last)",
      "\u001b[1;32mC:\\Users\\PRATIK~1\\AppData\\Local\\Temp/ipykernel_23556/2299856812.py\u001b[0m in \u001b[0;36m<module>\u001b[1;34m\u001b[0m\n\u001b[0;32m      1\u001b[0m \u001b[1;31m#Errors in concatenation : It means the below operation is not allowed\u001b[0m\u001b[1;33m\u001b[0m\u001b[1;33m\u001b[0m\u001b[0m\n\u001b[1;32m----> 2\u001b[1;33m \u001b[1;36m2\u001b[0m\u001b[1;33m+\u001b[0m\u001b[1;34m'a'\u001b[0m\u001b[1;33m\u001b[0m\u001b[1;33m\u001b[0m\u001b[0m\n\u001b[0m",
      "\u001b[1;31mTypeError\u001b[0m: unsupported operand type(s) for +: 'int' and 'str'"
     ]
    }
   ],
   "source": [
    "#Errors in concatenation : It means the below operation is not allowed\n",
    "2+'a'"
   ]
  },
  {
   "cell_type": "code",
   "execution_count": 48,
   "id": "1061435b",
   "metadata": {},
   "outputs": [
    {
     "data": {
      "text/plain": [
       "5"
      ]
     },
     "execution_count": 48,
     "metadata": {},
     "output_type": "execute_result"
    }
   ],
   "source": [
    "2+3"
   ]
  },
  {
   "cell_type": "code",
   "execution_count": 49,
   "id": "7ef942cd",
   "metadata": {},
   "outputs": [
    {
     "data": {
      "text/plain": [
       "'23'"
      ]
     },
     "execution_count": 49,
     "metadata": {},
     "output_type": "execute_result"
    }
   ],
   "source": [
    "'2'+'3'"
   ]
  },
  {
   "cell_type": "code",
   "execution_count": 50,
   "id": "0ce087a1",
   "metadata": {},
   "outputs": [],
   "source": [
    "#Some inbuild functions of String by Python\n",
    "x = 'Hello World'"
   ]
  },
  {
   "cell_type": "code",
   "execution_count": 51,
   "id": "d12a526d",
   "metadata": {},
   "outputs": [
    {
     "data": {
      "text/plain": [
       "'HELLO WORLD'"
      ]
     },
     "execution_count": 51,
     "metadata": {},
     "output_type": "execute_result"
    }
   ],
   "source": [
    "x.upper()"
   ]
  },
  {
   "cell_type": "code",
   "execution_count": 52,
   "id": "d9ce10c4",
   "metadata": {},
   "outputs": [
    {
     "data": {
      "text/plain": [
       "'hello world'"
      ]
     },
     "execution_count": 52,
     "metadata": {},
     "output_type": "execute_result"
    }
   ],
   "source": [
    "x.lower()"
   ]
  },
  {
   "cell_type": "code",
   "execution_count": 53,
   "id": "4328fa31",
   "metadata": {},
   "outputs": [
    {
     "data": {
      "text/plain": [
       "['Hello', 'World']"
      ]
     },
     "execution_count": 53,
     "metadata": {},
     "output_type": "execute_result"
    }
   ],
   "source": [
    "x.split(' ') #It creates a list in python"
   ]
  },
  {
   "cell_type": "markdown",
   "id": "3ec34f72",
   "metadata": {},
   "source": [
    "## Print Formatting - Stick a variable into a string "
   ]
  },
  {
   "cell_type": "markdown",
   "id": "fd7ec778",
   "metadata": {},
   "source": [
    "### Format using the .format method"
   ]
  },
  {
   "cell_type": "code",
   "execution_count": 54,
   "id": "c99262d8",
   "metadata": {},
   "outputs": [
    {
     "name": "stdout",
     "output_type": "stream",
     "text": [
      "This is a string INSERTED\n"
     ]
    }
   ],
   "source": [
    "print('This is a string {}'.format('INSERTED'))"
   ]
  },
  {
   "cell_type": "code",
   "execution_count": 55,
   "id": "ed500a1c",
   "metadata": {},
   "outputs": [
    {
     "name": "stdout",
     "output_type": "stream",
     "text": [
      "The fox brown quick\n"
     ]
    }
   ],
   "source": [
    "print('The {} {} {}'.format('fox','brown','quick'))"
   ]
  },
  {
   "cell_type": "code",
   "execution_count": 56,
   "id": "87105937",
   "metadata": {},
   "outputs": [
    {
     "name": "stdout",
     "output_type": "stream",
     "text": [
      "The quick brown fox\n"
     ]
    }
   ],
   "source": [
    "print('The {2} {1} {0}'.format('fox','brown','quick'))"
   ]
  },
  {
   "cell_type": "code",
   "execution_count": 57,
   "id": "95ab73b8",
   "metadata": {},
   "outputs": [
    {
     "name": "stdout",
     "output_type": "stream",
     "text": [
      "The quick brown fox\n"
     ]
    }
   ],
   "source": [
    "print('The {q} {b} {f}'.format(f='fox',b='brown',q='quick'))"
   ]
  },
  {
   "cell_type": "markdown",
   "id": "7211d70d",
   "metadata": {},
   "source": [
    "#### Float formatting which follows \"{value:width.precisionf}\""
   ]
  },
  {
   "cell_type": "code",
   "execution_count": 58,
   "id": "efbdca36",
   "metadata": {},
   "outputs": [],
   "source": [
    "result = 100/777"
   ]
  },
  {
   "cell_type": "code",
   "execution_count": 59,
   "id": "45bf10fe",
   "metadata": {},
   "outputs": [
    {
     "data": {
      "text/plain": [
       "0.1287001287001287"
      ]
     },
     "execution_count": 59,
     "metadata": {},
     "output_type": "execute_result"
    }
   ],
   "source": [
    "result"
   ]
  },
  {
   "cell_type": "code",
   "execution_count": 60,
   "id": "71b7cdbe",
   "metadata": {},
   "outputs": [
    {
     "name": "stdout",
     "output_type": "stream",
     "text": [
      "The result was 0.1287001287001287\n"
     ]
    }
   ],
   "source": [
    "print(\"The result was {r}\".format(r=result))"
   ]
  },
  {
   "cell_type": "code",
   "execution_count": 61,
   "id": "66dff3e5",
   "metadata": {},
   "outputs": [
    {
     "name": "stdout",
     "output_type": "stream",
     "text": [
      "The result was 0.129\n"
     ]
    }
   ],
   "source": [
    "print(\"The result was {r:1.3f}\".format(r=result)) #Mainly precision is used here which keeps the value after decimal, \n",
    "#as width will just white spaces"
   ]
  },
  {
   "cell_type": "code",
   "execution_count": 62,
   "id": "52613f03",
   "metadata": {},
   "outputs": [],
   "source": [
    "name = \"Jose\""
   ]
  },
  {
   "cell_type": "code",
   "execution_count": 63,
   "id": "85e82ecc",
   "metadata": {},
   "outputs": [
    {
     "name": "stdout",
     "output_type": "stream",
     "text": [
      "Hello, his name is Jose\n"
     ]
    }
   ],
   "source": [
    "print('Hello, his name is {}'.format(name))"
   ]
  },
  {
   "cell_type": "code",
   "execution_count": 64,
   "id": "a69a9bc0",
   "metadata": {},
   "outputs": [
    {
     "name": "stdout",
     "output_type": "stream",
     "text": [
      "Hello, his name is Jose\n"
     ]
    }
   ],
   "source": [
    "print(f'Hello, his name is {name}')"
   ]
  },
  {
   "cell_type": "code",
   "execution_count": 65,
   "id": "5b598033",
   "metadata": {},
   "outputs": [],
   "source": [
    "name = \"Avighna\"\n",
    "age = 3"
   ]
  },
  {
   "cell_type": "code",
   "execution_count": 66,
   "id": "bf2be30b",
   "metadata": {},
   "outputs": [
    {
     "name": "stdout",
     "output_type": "stream",
     "text": [
      "Hello, my name is Avighna and I am 3 years old\n"
     ]
    }
   ],
   "source": [
    "print(f'Hello, my name is {name} and I am {age} years old')"
   ]
  },
  {
   "cell_type": "markdown",
   "id": "4edbedce",
   "metadata": {},
   "source": [
    "## Lists in Python"
   ]
  },
  {
   "cell_type": "code",
   "execution_count": 67,
   "id": "befc3be7",
   "metadata": {},
   "outputs": [],
   "source": [
    "my_list = [1,2,3]"
   ]
  },
  {
   "cell_type": "code",
   "execution_count": 68,
   "id": "e40d6cbf",
   "metadata": {},
   "outputs": [],
   "source": [
    "hetero_list = ['STRING',100,23.2]"
   ]
  },
  {
   "cell_type": "code",
   "execution_count": 69,
   "id": "84c186bc",
   "metadata": {},
   "outputs": [
    {
     "data": {
      "text/plain": [
       "3"
      ]
     },
     "execution_count": 69,
     "metadata": {},
     "output_type": "execute_result"
    }
   ],
   "source": [
    "len(hetero_list)"
   ]
  },
  {
   "cell_type": "code",
   "execution_count": 70,
   "id": "31e5afb2",
   "metadata": {},
   "outputs": [
    {
     "data": {
      "text/plain": [
       "'STRING'"
      ]
     },
     "execution_count": 70,
     "metadata": {},
     "output_type": "execute_result"
    }
   ],
   "source": [
    "hetero_list[0]"
   ]
  },
  {
   "cell_type": "code",
   "execution_count": 71,
   "id": "d60bf7b8",
   "metadata": {},
   "outputs": [
    {
     "data": {
      "text/plain": [
       "[100, 23.2]"
      ]
     },
     "execution_count": 71,
     "metadata": {},
     "output_type": "execute_result"
    }
   ],
   "source": [
    "hetero_list[1:]"
   ]
  },
  {
   "cell_type": "code",
   "execution_count": 87,
   "id": "e41724e8",
   "metadata": {},
   "outputs": [],
   "source": [
    "#Addition of list\n",
    "new_list=my_list+hetero_list"
   ]
  },
  {
   "cell_type": "code",
   "execution_count": 88,
   "id": "fbaf0b3c",
   "metadata": {},
   "outputs": [
    {
     "data": {
      "text/plain": [
       "[1, 2, 3, 'STRING', 100, 23.2]"
      ]
     },
     "execution_count": 88,
     "metadata": {},
     "output_type": "execute_result"
    }
   ],
   "source": [
    "new_list"
   ]
  },
  {
   "cell_type": "code",
   "execution_count": 89,
   "id": "443c7c45",
   "metadata": {},
   "outputs": [],
   "source": [
    "new_list[0]='ONE ALL CAPS'"
   ]
  },
  {
   "cell_type": "code",
   "execution_count": 90,
   "id": "f382071e",
   "metadata": {},
   "outputs": [
    {
     "data": {
      "text/plain": [
       "['ONE ALL CAPS', 2, 3, 'STRING', 100, 23.2]"
      ]
     },
     "execution_count": 90,
     "metadata": {},
     "output_type": "execute_result"
    }
   ],
   "source": [
    "new_list"
   ]
  },
  {
   "cell_type": "code",
   "execution_count": 91,
   "id": "42fc3fc5",
   "metadata": {},
   "outputs": [],
   "source": [
    "new_list.append('six')"
   ]
  },
  {
   "cell_type": "code",
   "execution_count": 92,
   "id": "765dcd43",
   "metadata": {},
   "outputs": [
    {
     "data": {
      "text/plain": [
       "['ONE ALL CAPS', 2, 3, 'STRING', 100, 23.2, 'six']"
      ]
     },
     "execution_count": 92,
     "metadata": {},
     "output_type": "execute_result"
    }
   ],
   "source": [
    "new_list"
   ]
  },
  {
   "cell_type": "code",
   "execution_count": 93,
   "id": "c5c15af8",
   "metadata": {},
   "outputs": [],
   "source": [
    "new_list.remove('six')"
   ]
  },
  {
   "cell_type": "code",
   "execution_count": 94,
   "id": "4d748d7a",
   "metadata": {},
   "outputs": [
    {
     "data": {
      "text/plain": [
       "['ONE ALL CAPS', 2, 3, 'STRING', 100, 23.2]"
      ]
     },
     "execution_count": 94,
     "metadata": {},
     "output_type": "execute_result"
    }
   ],
   "source": [
    "new_list"
   ]
  },
  {
   "cell_type": "code",
   "execution_count": 83,
   "id": "cab0d4e0",
   "metadata": {},
   "outputs": [
    {
     "data": {
      "text/plain": [
       "100"
      ]
     },
     "execution_count": 83,
     "metadata": {},
     "output_type": "execute_result"
    }
   ],
   "source": [
    "new_list.pop() #Removes the last element by default"
   ]
  },
  {
   "cell_type": "code",
   "execution_count": 84,
   "id": "c912cc1b",
   "metadata": {},
   "outputs": [
    {
     "data": {
      "text/plain": [
       "['ONE ALL CAPS', 2, 3, 'STRING']"
      ]
     },
     "execution_count": 84,
     "metadata": {},
     "output_type": "execute_result"
    }
   ],
   "source": [
    "new_list"
   ]
  },
  {
   "cell_type": "code",
   "execution_count": 95,
   "id": "2fc0cde8",
   "metadata": {},
   "outputs": [],
   "source": [
    "popped_item = new_list.pop()"
   ]
  },
  {
   "cell_type": "code",
   "execution_count": 96,
   "id": "c8c5e7d7",
   "metadata": {},
   "outputs": [
    {
     "data": {
      "text/plain": [
       "23.2"
      ]
     },
     "execution_count": 96,
     "metadata": {},
     "output_type": "execute_result"
    }
   ],
   "source": [
    "popped_item"
   ]
  },
  {
   "cell_type": "code",
   "execution_count": 98,
   "id": "e1199735",
   "metadata": {},
   "outputs": [
    {
     "data": {
      "text/plain": [
       "'ONE ALL CAPS'"
      ]
     },
     "execution_count": 98,
     "metadata": {},
     "output_type": "execute_result"
    }
   ],
   "source": [
    "#Removal can also be done at specific index\n",
    "new_list.pop(0)"
   ]
  },
  {
   "cell_type": "code",
   "execution_count": 105,
   "id": "4e335c09",
   "metadata": {},
   "outputs": [],
   "source": [
    "alpha_list=['a','e','x','o','c']\n",
    "num_list=[9,2,3,4]"
   ]
  },
  {
   "cell_type": "code",
   "execution_count": 106,
   "id": "3bcf23d4",
   "metadata": {},
   "outputs": [],
   "source": [
    "alpha_list.sort() #Default function which doesn't return anything"
   ]
  },
  {
   "cell_type": "code",
   "execution_count": 107,
   "id": "b2729213",
   "metadata": {},
   "outputs": [
    {
     "data": {
      "text/plain": [
       "['a', 'c', 'e', 'o', 'x']"
      ]
     },
     "execution_count": 107,
     "metadata": {},
     "output_type": "execute_result"
    }
   ],
   "source": [
    "alpha_list"
   ]
  },
  {
   "cell_type": "code",
   "execution_count": 108,
   "id": "b5b6f7e0",
   "metadata": {},
   "outputs": [],
   "source": [
    "sorted_num_list = num_list.sort()"
   ]
  },
  {
   "cell_type": "code",
   "execution_count": 109,
   "id": "08dd50ad",
   "metadata": {},
   "outputs": [],
   "source": [
    "sorted_num_list"
   ]
  },
  {
   "cell_type": "code",
   "execution_count": 110,
   "id": "2d9ca49e",
   "metadata": {},
   "outputs": [],
   "source": [
    "#The above doesn't return anything as sort() function doesn't return anything.\n",
    "num_list.sort()\n",
    "sorted_num_list=num_list"
   ]
  },
  {
   "cell_type": "code",
   "execution_count": 111,
   "id": "16280526",
   "metadata": {},
   "outputs": [
    {
     "data": {
      "text/plain": [
       "[2, 3, 4, 9]"
      ]
     },
     "execution_count": 111,
     "metadata": {},
     "output_type": "execute_result"
    }
   ],
   "source": [
    "sorted_num_list"
   ]
  },
  {
   "cell_type": "code",
   "execution_count": 112,
   "id": "ef45ad68",
   "metadata": {},
   "outputs": [],
   "source": [
    "##Reverse Method of List\n",
    "num_list.reverse()"
   ]
  },
  {
   "cell_type": "code",
   "execution_count": null,
   "id": "68ff137b",
   "metadata": {},
   "outputs": [],
   "source": [
    "num_list"
   ]
  }
 ],
 "metadata": {
  "kernelspec": {
   "display_name": "Python 3 (ipykernel)",
   "language": "python",
   "name": "python3"
  },
  "language_info": {
   "codemirror_mode": {
    "name": "ipython",
    "version": 3
   },
   "file_extension": ".py",
   "mimetype": "text/x-python",
   "name": "python",
   "nbconvert_exporter": "python",
   "pygments_lexer": "ipython3",
   "version": "3.9.7"
  }
 },
 "nbformat": 4,
 "nbformat_minor": 5
}
