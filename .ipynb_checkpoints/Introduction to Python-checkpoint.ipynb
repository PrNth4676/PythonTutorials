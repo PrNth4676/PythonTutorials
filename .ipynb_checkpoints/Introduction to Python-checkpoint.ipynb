{
 "cells": [
  {
   "cell_type": "code",
   "execution_count": 1,
   "id": "11af59b2",
   "metadata": {},
   "outputs": [
    {
     "data": {
      "text/plain": [
       "3"
      ]
     },
     "execution_count": 1,
     "metadata": {},
     "output_type": "execute_result"
    }
   ],
   "source": [
    "#Addition\n",
    "2+1"
   ]
  },
  {
   "cell_type": "code",
   "execution_count": 2,
   "id": "2d444174",
   "metadata": {},
   "outputs": [
    {
     "data": {
      "text/plain": [
       "1"
      ]
     },
     "execution_count": 2,
     "metadata": {},
     "output_type": "execute_result"
    }
   ],
   "source": [
    "#Substraction\n",
    "2-1"
   ]
  },
  {
   "cell_type": "code",
   "execution_count": 3,
   "id": "3e6f93e4",
   "metadata": {},
   "outputs": [
    {
     "data": {
      "text/plain": [
       "6"
      ]
     },
     "execution_count": 3,
     "metadata": {},
     "output_type": "execute_result"
    }
   ],
   "source": [
    "#Multiplication\n",
    "3*2"
   ]
  },
  {
   "cell_type": "code",
   "execution_count": 4,
   "id": "9fed0871",
   "metadata": {},
   "outputs": [
    {
     "data": {
      "text/plain": [
       "1.25"
      ]
     },
     "execution_count": 4,
     "metadata": {},
     "output_type": "execute_result"
    }
   ],
   "source": [
    "#Division\n",
    "5/4"
   ]
  },
  {
   "cell_type": "markdown",
   "id": "454a2cf6",
   "metadata": {},
   "source": [
    "### Module or Mod Operator - It returns the remainder after a division"
   ]
  },
  {
   "cell_type": "code",
   "execution_count": 5,
   "id": "3e3bf0da",
   "metadata": {},
   "outputs": [
    {
     "data": {
      "text/plain": [
       "3"
      ]
     },
     "execution_count": 5,
     "metadata": {},
     "output_type": "execute_result"
    }
   ],
   "source": [
    "7%4"
   ]
  },
  {
   "cell_type": "code",
   "execution_count": 6,
   "id": "30c53d64",
   "metadata": {},
   "outputs": [
    {
     "data": {
      "text/plain": [
       "0"
      ]
     },
     "execution_count": 6,
     "metadata": {},
     "output_type": "execute_result"
    }
   ],
   "source": [
    "50%5"
   ]
  },
  {
   "cell_type": "markdown",
   "id": "35e2bba9",
   "metadata": {},
   "source": [
    "### Power Operation"
   ]
  },
  {
   "cell_type": "code",
   "execution_count": 7,
   "id": "56ed0b85",
   "metadata": {},
   "outputs": [
    {
     "data": {
      "text/plain": [
       "8"
      ]
     },
     "execution_count": 7,
     "metadata": {},
     "output_type": "execute_result"
    }
   ],
   "source": [
    "#Two asterisk sign in a row\n",
    "2 ** 3"
   ]
  },
  {
   "cell_type": "markdown",
   "id": "1f444770",
   "metadata": {},
   "source": [
    "# VARIABLE ASSIGNMENT "
   ]
  },
  {
   "cell_type": "code",
   "execution_count": 8,
   "id": "46a3a943",
   "metadata": {},
   "outputs": [],
   "source": [
    "a = 5"
   ]
  },
  {
   "cell_type": "code",
   "execution_count": 9,
   "id": "4138489a",
   "metadata": {},
   "outputs": [
    {
     "data": {
      "text/plain": [
       "5"
      ]
     },
     "execution_count": 9,
     "metadata": {},
     "output_type": "execute_result"
    }
   ],
   "source": [
    "a"
   ]
  },
  {
   "cell_type": "code",
   "execution_count": 10,
   "id": "fd2d4435",
   "metadata": {},
   "outputs": [],
   "source": [
    "a = 10"
   ]
  },
  {
   "cell_type": "code",
   "execution_count": 11,
   "id": "19650571",
   "metadata": {},
   "outputs": [
    {
     "data": {
      "text/plain": [
       "20"
      ]
     },
     "execution_count": 11,
     "metadata": {},
     "output_type": "execute_result"
    }
   ],
   "source": [
    "a+a"
   ]
  },
  {
   "cell_type": "code",
   "execution_count": 12,
   "id": "03dc43c8",
   "metadata": {},
   "outputs": [],
   "source": [
    "a = a+a"
   ]
  },
  {
   "cell_type": "code",
   "execution_count": 13,
   "id": "cd37970b",
   "metadata": {},
   "outputs": [
    {
     "data": {
      "text/plain": [
       "20"
      ]
     },
     "execution_count": 13,
     "metadata": {},
     "output_type": "execute_result"
    }
   ],
   "source": [
    "a"
   ]
  },
  {
   "cell_type": "code",
   "execution_count": 14,
   "id": "6594cabf",
   "metadata": {},
   "outputs": [
    {
     "data": {
      "text/plain": [
       "int"
      ]
     },
     "execution_count": 14,
     "metadata": {},
     "output_type": "execute_result"
    }
   ],
   "source": [
    "#Returns the type of the variable\n",
    "type(a)"
   ]
  },
  {
   "cell_type": "code",
   "execution_count": 15,
   "id": "a3437430",
   "metadata": {},
   "outputs": [],
   "source": [
    "my_income = 100\n",
    "tax_rate = 0.1\n",
    "my_taxes = my_income*tax_rate"
   ]
  },
  {
   "cell_type": "code",
   "execution_count": 16,
   "id": "b38f0322",
   "metadata": {},
   "outputs": [
    {
     "data": {
      "text/plain": [
       "10.0"
      ]
     },
     "execution_count": 16,
     "metadata": {},
     "output_type": "execute_result"
    }
   ],
   "source": [
    "my_taxes"
   ]
  },
  {
   "cell_type": "code",
   "execution_count": 17,
   "id": "936020d0",
   "metadata": {},
   "outputs": [
    {
     "data": {
      "text/plain": [
       "'hello'"
      ]
     },
     "execution_count": 17,
     "metadata": {},
     "output_type": "execute_result"
    }
   ],
   "source": [
    "'hello'"
   ]
  },
  {
   "cell_type": "code",
   "execution_count": 18,
   "id": "73c53a08",
   "metadata": {},
   "outputs": [
    {
     "data": {
      "text/plain": [
       "'world'"
      ]
     },
     "execution_count": 18,
     "metadata": {},
     "output_type": "execute_result"
    }
   ],
   "source": [
    "\"world\""
   ]
  },
  {
   "cell_type": "code",
   "execution_count": 19,
   "id": "d98e32ed",
   "metadata": {},
   "outputs": [
    {
     "data": {
      "text/plain": [
       "'this is also a string'"
      ]
     },
     "execution_count": 19,
     "metadata": {},
     "output_type": "execute_result"
    }
   ],
   "source": [
    "'this is also a string'"
   ]
  },
  {
   "cell_type": "code",
   "execution_count": 20,
   "id": "77b0c778",
   "metadata": {},
   "outputs": [
    {
     "ename": "SyntaxError",
     "evalue": "invalid syntax (Temp/ipykernel_6688/1142179155.py, line 1)",
     "output_type": "error",
     "traceback": [
      "\u001b[1;36m  File \u001b[1;32m\"C:\\Users\\PRATIK~1\\AppData\\Local\\Temp/ipykernel_6688/1142179155.py\"\u001b[1;36m, line \u001b[1;32m1\u001b[0m\n\u001b[1;33m    'I'm going to work'\u001b[0m\n\u001b[1;37m       ^\u001b[0m\n\u001b[1;31mSyntaxError\u001b[0m\u001b[1;31m:\u001b[0m invalid syntax\n"
     ]
    }
   ],
   "source": [
    "'I'm going to work'"
   ]
  },
  {
   "cell_type": "code",
   "execution_count": null,
   "id": "0a97d3dc",
   "metadata": {},
   "outputs": [],
   "source": [
    "\"I'm going to work\""
   ]
  },
  {
   "cell_type": "code",
   "execution_count": null,
   "id": "00de70b5",
   "metadata": {},
   "outputs": [],
   "source": [
    "print(\"hello\")"
   ]
  },
  {
   "cell_type": "code",
   "execution_count": null,
   "id": "18da9191",
   "metadata": {},
   "outputs": [],
   "source": [
    "print('hello \\nworld')"
   ]
  },
  {
   "cell_type": "code",
   "execution_count": null,
   "id": "5676b3cb",
   "metadata": {},
   "outputs": [],
   "source": [
    "print('hello \\tworld') #Tab denoted by \\t which gives a tab in a string"
   ]
  },
  {
   "cell_type": "code",
   "execution_count": null,
   "id": "9c425978",
   "metadata": {},
   "outputs": [],
   "source": [
    "len('hello')"
   ]
  },
  {
   "cell_type": "markdown",
   "id": "ac486e31",
   "metadata": {},
   "source": [
    "## Indexing and Slicing of String "
   ]
  },
  {
   "cell_type": "code",
   "execution_count": null,
   "id": "a2a25f32",
   "metadata": {},
   "outputs": [],
   "source": [
    "myString = \"Hello World\""
   ]
  },
  {
   "cell_type": "code",
   "execution_count": null,
   "id": "ac0f229e",
   "metadata": {},
   "outputs": [],
   "source": [
    "myString[0]"
   ]
  },
  {
   "cell_type": "code",
   "execution_count": null,
   "id": "fac3fdc5",
   "metadata": {},
   "outputs": [],
   "source": [
    "myString[-3] #Indexing in reverse"
   ]
  },
  {
   "cell_type": "code",
   "execution_count": null,
   "id": "72c2c893",
   "metadata": {},
   "outputs": [],
   "source": [
    "#Slicing\n",
    "sliceString = \"abcdefghijk\""
   ]
  },
  {
   "cell_type": "code",
   "execution_count": null,
   "id": "d4f71a37",
   "metadata": {},
   "outputs": [],
   "source": [
    "sliceString[2:] #Start Index : starts from and includes the index"
   ]
  },
  {
   "cell_type": "code",
   "execution_count": null,
   "id": "e5e9e215",
   "metadata": {},
   "outputs": [],
   "source": [
    "sliceString[:3] #Stop Index : goes upto the index but doesn't include the index"
   ]
  },
  {
   "cell_type": "code",
   "execution_count": null,
   "id": "9492293b",
   "metadata": {},
   "outputs": [],
   "source": [
    "sliceString[3:6]"
   ]
  },
  {
   "cell_type": "code",
   "execution_count": null,
   "id": "a7da573f",
   "metadata": {},
   "outputs": [],
   "source": [
    "sliceString[1:3]"
   ]
  },
  {
   "cell_type": "code",
   "execution_count": null,
   "id": "2ac4bb83",
   "metadata": {},
   "outputs": [],
   "source": [
    "sliceString[::] #Valid syntax which is all the way from the beginning till the last index in a step of 1"
   ]
  },
  {
   "cell_type": "code",
   "execution_count": null,
   "id": "16cb089e",
   "metadata": {},
   "outputs": [],
   "source": [
    "sliceString[::2]"
   ]
  },
  {
   "cell_type": "code",
   "execution_count": null,
   "id": "ec87cb8e",
   "metadata": {},
   "outputs": [],
   "source": [
    "sliceString[2:7:2]"
   ]
  },
  {
   "cell_type": "code",
   "execution_count": null,
   "id": "d2b9777a",
   "metadata": {},
   "outputs": [],
   "source": [
    "sliceString[::-1] #Reverse a string"
   ]
  },
  {
   "cell_type": "markdown",
   "id": "970a358b",
   "metadata": {},
   "source": [
    "# Properties of String"
   ]
  },
  {
   "cell_type": "markdown",
   "id": "435bff05",
   "metadata": {},
   "source": [
    "### Immutability"
   ]
  },
  {
   "cell_type": "code",
   "execution_count": null,
   "id": "6beb6554",
   "metadata": {},
   "outputs": [],
   "source": [
    "name = \"Pratik\""
   ]
  },
  {
   "cell_type": "code",
   "execution_count": null,
   "id": "030f880a",
   "metadata": {},
   "outputs": [],
   "source": [
    "name[0] = 'Z'"
   ]
  },
  {
   "cell_type": "code",
   "execution_count": null,
   "id": "c0257a1e",
   "metadata": {},
   "outputs": [],
   "source": [
    "last_letters = name[1:]"
   ]
  },
  {
   "cell_type": "code",
   "execution_count": null,
   "id": "96947608",
   "metadata": {},
   "outputs": [],
   "source": [
    "print(last_letters)"
   ]
  },
  {
   "cell_type": "code",
   "execution_count": null,
   "id": "a4ab1c0a",
   "metadata": {},
   "outputs": [],
   "source": [
    "'P'+last_letters #String Concatenation is done here"
   ]
  },
  {
   "cell_type": "code",
   "execution_count": null,
   "id": "092b9453",
   "metadata": {},
   "outputs": [],
   "source": [
    "x = \"Hello World\""
   ]
  },
  {
   "cell_type": "code",
   "execution_count": null,
   "id": "0376c1b9",
   "metadata": {},
   "outputs": [],
   "source": [
    "x + \" it is beautiful outside!\""
   ]
  },
  {
   "cell_type": "code",
   "execution_count": null,
   "id": "36590544",
   "metadata": {},
   "outputs": [],
   "source": [
    "letter = 'z'"
   ]
  },
  {
   "cell_type": "code",
   "execution_count": null,
   "id": "abe67715",
   "metadata": {},
   "outputs": [],
   "source": [
    "letter*10"
   ]
  },
  {
   "cell_type": "code",
   "execution_count": null,
   "id": "f0e15270",
   "metadata": {},
   "outputs": [],
   "source": [
    "#Errors in concatenation : It means the below operation is not allowed\n",
    "2+'a'"
   ]
  },
  {
   "cell_type": "code",
   "execution_count": null,
   "id": "1061435b",
   "metadata": {},
   "outputs": [],
   "source": [
    "2+3"
   ]
  },
  {
   "cell_type": "code",
   "execution_count": null,
   "id": "7ef942cd",
   "metadata": {},
   "outputs": [],
   "source": [
    "'2'+'3'"
   ]
  },
  {
   "cell_type": "code",
   "execution_count": null,
   "id": "0ce087a1",
   "metadata": {},
   "outputs": [],
   "source": [
    "#Some inbuild functions of String by Python\n",
    "x = 'Hello World'"
   ]
  },
  {
   "cell_type": "code",
   "execution_count": null,
   "id": "d12a526d",
   "metadata": {},
   "outputs": [],
   "source": [
    "x.upper()"
   ]
  },
  {
   "cell_type": "code",
   "execution_count": null,
   "id": "d9ce10c4",
   "metadata": {},
   "outputs": [],
   "source": [
    "x.lower()"
   ]
  },
  {
   "cell_type": "code",
   "execution_count": null,
   "id": "4328fa31",
   "metadata": {},
   "outputs": [],
   "source": [
    "x.split(' ') #It creates a list in python"
   ]
  },
  {
   "cell_type": "markdown",
   "id": "66929196",
   "metadata": {},
   "source": [
    "## Print Formatting - Stick a variable into a string "
   ]
  },
  {
   "cell_type": "markdown",
   "id": "44e8f2ee",
   "metadata": {},
   "source": [
    "### Format using the .format method"
   ]
  },
  {
   "cell_type": "code",
   "execution_count": 21,
   "id": "37bca738",
   "metadata": {},
   "outputs": [
    {
     "name": "stdout",
     "output_type": "stream",
     "text": [
      "This is a string INSERTED\n"
     ]
    }
   ],
   "source": [
    "print('This is a string {}'.format('INSERTED'))"
   ]
  },
  {
   "cell_type": "code",
   "execution_count": 22,
   "id": "038b511f",
   "metadata": {},
   "outputs": [
    {
     "name": "stdout",
     "output_type": "stream",
     "text": [
      "The fox brown quick\n"
     ]
    }
   ],
   "source": [
    "print('The {} {} {}'.format('fox','brown','quick'))"
   ]
  },
  {
   "cell_type": "code",
   "execution_count": 24,
   "id": "bd697746",
   "metadata": {},
   "outputs": [
    {
     "name": "stdout",
     "output_type": "stream",
     "text": [
      "The quick brown fox\n"
     ]
    }
   ],
   "source": [
    "print('The {2} {1} {0}'.format('fox','brown','quick'))"
   ]
  },
  {
   "cell_type": "code",
   "execution_count": 25,
   "id": "c38d8c6b",
   "metadata": {},
   "outputs": [
    {
     "name": "stdout",
     "output_type": "stream",
     "text": [
      "The quick brown fox\n"
     ]
    }
   ],
   "source": [
    "print('The {q} {b} {f}'.format(f='fox',b='brown',q='quick'))"
   ]
  },
  {
   "cell_type": "markdown",
   "id": "9c2fcfc8",
   "metadata": {},
   "source": [
    "#### Float formatting which follows \"{value:width.precisionf}\""
   ]
  },
  {
   "cell_type": "code",
   "execution_count": 26,
   "id": "7f88f508",
   "metadata": {},
   "outputs": [],
   "source": [
    "result = 100/777"
   ]
  },
  {
   "cell_type": "code",
   "execution_count": 27,
   "id": "40722f7c",
   "metadata": {},
   "outputs": [
    {
     "data": {
      "text/plain": [
       "0.1287001287001287"
      ]
     },
     "execution_count": 27,
     "metadata": {},
     "output_type": "execute_result"
    }
   ],
   "source": [
    "result"
   ]
  },
  {
   "cell_type": "code",
   "execution_count": 28,
   "id": "6f4bf6da",
   "metadata": {},
   "outputs": [
    {
     "name": "stdout",
     "output_type": "stream",
     "text": [
      "The result was 0.1287001287001287\n"
     ]
    }
   ],
   "source": [
    "print(\"The result was {r}\".format(r=result))"
   ]
  },
  {
   "cell_type": "code",
   "execution_count": 31,
   "id": "57dad04b",
   "metadata": {},
   "outputs": [
    {
     "name": "stdout",
     "output_type": "stream",
     "text": [
      "The result was 0.129\n"
     ]
    }
   ],
   "source": [
    "print(\"The result was {r:1.3f}\".format(r=result)) #Mainly precision is used here, as width will just white spaces"
   ]
  },
  {
   "cell_type": "code",
   "execution_count": null,
   "id": "fef67001",
   "metadata": {},
   "outputs": [],
   "source": []
  }
 ],
 "metadata": {
  "kernelspec": {
   "display_name": "Python 3 (ipykernel)",
   "language": "python",
   "name": "python3"
  },
  "language_info": {
   "codemirror_mode": {
    "name": "ipython",
    "version": 3
   },
   "file_extension": ".py",
   "mimetype": "text/x-python",
   "name": "python",
   "nbconvert_exporter": "python",
   "pygments_lexer": "ipython3",
   "version": "3.9.7"
  }
 },
 "nbformat": 4,
 "nbformat_minor": 5
}
