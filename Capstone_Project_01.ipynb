{
 "cells": [
  {
   "cell_type": "code",
   "execution_count": 1,
   "id": "e0279d42",
   "metadata": {},
   "outputs": [
    {
     "name": "stdout",
     "output_type": "stream",
     "text": [
      "[1, 2, 3]\n"
     ]
    }
   ],
   "source": [
    "print([1,2,3])"
   ]
  },
  {
   "cell_type": "code",
   "execution_count": 2,
   "id": "661a86d1",
   "metadata": {},
   "outputs": [
    {
     "name": "stdout",
     "output_type": "stream",
     "text": [
      "[1, 2, 3]\n",
      "[4, 5, 6]\n",
      "[7, 8, 9]\n"
     ]
    }
   ],
   "source": [
    "print([1,2,3])\n",
    "print([4,5,6])\n",
    "print([7,8,9])"
   ]
  },
  {
   "cell_type": "code",
   "execution_count": 3,
   "id": "1e81f321",
   "metadata": {},
   "outputs": [],
   "source": [
    "def display(row1,row2,row3):\n",
    "    print(row1)\n",
    "    print(row2)\n",
    "    print(row3)"
   ]
  },
  {
   "cell_type": "code",
   "execution_count": 4,
   "id": "30e3292a",
   "metadata": {},
   "outputs": [
    {
     "name": "stdout",
     "output_type": "stream",
     "text": [
      "[' ', ' ', ' ']\n",
      "[' ', ' ', ' ']\n",
      "[' ', ' ', ' ']\n"
     ]
    }
   ],
   "source": [
    "row_1 = [' ',' ',' ']\n",
    "row_2 = [' ',' ',' ']\n",
    "row_3 = [' ',' ',' ']\n",
    "display(row_1,row_2,row_3)"
   ]
  },
  {
   "cell_type": "code",
   "execution_count": 5,
   "id": "bbfc7fff",
   "metadata": {},
   "outputs": [],
   "source": [
    "row_2[1]='X'"
   ]
  },
  {
   "cell_type": "code",
   "execution_count": 6,
   "id": "5abb4390",
   "metadata": {},
   "outputs": [
    {
     "name": "stdout",
     "output_type": "stream",
     "text": [
      "[' ', ' ', ' ']\n",
      "[' ', 'X', ' ']\n",
      "[' ', ' ', ' ']\n"
     ]
    }
   ],
   "source": [
    "display(row_1,row_2,row_3)"
   ]
  },
  {
   "cell_type": "markdown",
   "id": "a6109626",
   "metadata": {},
   "source": [
    "### Accepting User Inputs"
   ]
  },
  {
   "cell_type": "code",
   "execution_count": 7,
   "id": "e4f64450",
   "metadata": {},
   "outputs": [
    {
     "name": "stdout",
     "output_type": "stream",
     "text": [
      "Please enter a value : 2\n"
     ]
    },
    {
     "data": {
      "text/plain": [
       "'2'"
      ]
     },
     "execution_count": 7,
     "metadata": {},
     "output_type": "execute_result"
    }
   ],
   "source": [
    "input(\"Please enter a value : \")"
   ]
  },
  {
   "cell_type": "code",
   "execution_count": 8,
   "id": "9e3a323c",
   "metadata": {},
   "outputs": [
    {
     "name": "stdout",
     "output_type": "stream",
     "text": [
      "Please enter a value : 4\n"
     ]
    }
   ],
   "source": [
    "result = input(\"Please enter a value : \")"
   ]
  },
  {
   "cell_type": "code",
   "execution_count": 9,
   "id": "a07996e1",
   "metadata": {},
   "outputs": [
    {
     "data": {
      "text/plain": [
       "'4'"
      ]
     },
     "execution_count": 9,
     "metadata": {},
     "output_type": "execute_result"
    }
   ],
   "source": [
    "result"
   ]
  },
  {
   "cell_type": "code",
   "execution_count": 10,
   "id": "063f1fab",
   "metadata": {},
   "outputs": [
    {
     "data": {
      "text/plain": [
       "str"
      ]
     },
     "execution_count": 10,
     "metadata": {},
     "output_type": "execute_result"
    }
   ],
   "source": [
    "type(result)"
   ]
  },
  {
   "cell_type": "code",
   "execution_count": 11,
   "id": "cd309fba",
   "metadata": {},
   "outputs": [
    {
     "data": {
      "text/plain": [
       "int"
      ]
     },
     "execution_count": 11,
     "metadata": {},
     "output_type": "execute_result"
    }
   ],
   "source": [
    "#Convert the result into integer\n",
    "result_int = int(result)\n",
    "type(result_int)"
   ]
  },
  {
   "cell_type": "code",
   "execution_count": 14,
   "id": "73e6d9ad",
   "metadata": {},
   "outputs": [
    {
     "name": "stdout",
     "output_type": "stream",
     "text": [
      "Choose an input position: 1\n"
     ]
    }
   ],
   "source": [
    "position_index = int(input('Choose an input position: '))"
   ]
  },
  {
   "cell_type": "code",
   "execution_count": 15,
   "id": "860cbb43",
   "metadata": {},
   "outputs": [
    {
     "data": {
      "text/plain": [
       "' '"
      ]
     },
     "execution_count": 15,
     "metadata": {},
     "output_type": "execute_result"
    }
   ],
   "source": [
    "row_1[position_index]"
   ]
  },
  {
   "cell_type": "code",
   "execution_count": 48,
   "id": "e23b673b",
   "metadata": {},
   "outputs": [],
   "source": [
    "def user_choice():\n",
    "    choice = 'WRONG'\n",
    "    inRange = False\n",
    "    while choice.isdigit() == False or inRange == False:\n",
    "         choice = input(\"Please enter a number (0-10):\")\n",
    "         if choice.isdigit() == False:\n",
    "            print(\"Not a digit\")\n",
    "         if choice.isdigit():\n",
    "             if int(choice) in range(0,10):\n",
    "                inRange = True\n",
    "             else:\n",
    "                inRange = False\n",
    "                print(\"Not in acceptable range (0-10)\")\n",
    "    return int(choice)"
   ]
  },
  {
   "cell_type": "code",
   "execution_count": 49,
   "id": "b7fe9166",
   "metadata": {},
   "outputs": [
    {
     "name": "stdout",
     "output_type": "stream",
     "text": [
      "Please enter a number (0-10):100\n",
      "Not in range\n",
      "Please enter a number (0-10):two\n",
      "Not a digit\n",
      "Please enter a number (0-10):34\n",
      "Not in range\n",
      "Please enter a number (0-10):3\n"
     ]
    },
    {
     "data": {
      "text/plain": [
       "3"
      ]
     },
     "execution_count": 49,
     "metadata": {},
     "output_type": "execute_result"
    }
   ],
   "source": [
    "user_choice()"
   ]
  }
 ],
 "metadata": {
  "kernelspec": {
   "display_name": "Python 3 (ipykernel)",
   "language": "python",
   "name": "python3"
  },
  "language_info": {
   "codemirror_mode": {
    "name": "ipython",
    "version": 3
   },
   "file_extension": ".py",
   "mimetype": "text/x-python",
   "name": "python",
   "nbconvert_exporter": "python",
   "pygments_lexer": "ipython3",
   "version": "3.9.7"
  }
 },
 "nbformat": 4,
 "nbformat_minor": 5
}
